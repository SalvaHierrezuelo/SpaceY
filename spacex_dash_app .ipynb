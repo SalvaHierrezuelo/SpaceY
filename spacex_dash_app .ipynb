{
    "cells": [
        {
            "cell_type": "code",
            "execution_count": 1,
            "id": "46546649",
            "metadata": {},
            "outputs": [
                {
                    "name": "stdout",
                    "output_type": "stream",
                    "text": "Collecting dash==1.19.0\n  Downloading dash-1.19.0.tar.gz (75 kB)\nRequirement already satisfied: Flask>=1.0.4 in c:\\users\\80807819\\anaconda3\\lib\\site-packages (from dash==1.19.0) (1.1.2)\nCollecting flask-compress\n  Downloading Flask_Compress-1.10.1-py3-none-any.whl (7.9 kB)\nCollecting plotly\n  Downloading plotly-5.3.1-py2.py3-none-any.whl (23.9 MB)\nCollecting dash_renderer==1.9.0\n  Downloading dash_renderer-1.9.0.tar.gz (1.0 MB)\nCollecting dash-core-components==1.15.0\n  Downloading dash_core_components-1.15.0.tar.gz (3.5 MB)\nCollecting dash-html-components==1.1.2\n  Downloading dash_html_components-1.1.2.tar.gz (188 kB)\nCollecting dash-table==4.11.2\n  Downloading dash_table-4.11.2.tar.gz (1.8 MB)\nRequirement already satisfied: future in c:\\users\\80807819\\anaconda3\\lib\\site-packages (from dash==1.19.0) (0.18.2)\nRequirement already satisfied: Jinja2>=2.10.1 in c:\\users\\80807819\\anaconda3\\lib\\site-packages (from Flask>=1.0.4->dash==1.19.0) (2.11.3)\nRequirement already satisfied: click>=5.1 in c:\\users\\80807819\\anaconda3\\lib\\site-packages (from Flask>=1.0.4->dash==1.19.0) (7.1.2)\nRequirement already satisfied: Werkzeug>=0.15 in c:\\users\\80807819\\anaconda3\\lib\\site-packages (from Flask>=1.0.4->dash==1.19.0) (1.0.1)\nRequirement already satisfied: itsdangerous>=0.24 in c:\\users\\80807819\\anaconda3\\lib\\site-packages (from Flask>=1.0.4->dash==1.19.0) (1.1.0)\nRequirement already satisfied: MarkupSafe>=0.23 in c:\\users\\80807819\\anaconda3\\lib\\site-packages (from Jinja2>=2.10.1->Flask>=1.0.4->dash==1.19.0) (1.1.1)\nCollecting brotli\n  Downloading Brotli-1.0.9-cp38-cp38-win_amd64.whl (365 kB)\nCollecting tenacity>=6.2.0\n  Downloading tenacity-8.0.1-py3-none-any.whl (24 kB)\nRequirement already satisfied: six in c:\\users\\80807819\\anaconda3\\lib\\site-packages (from plotly->dash==1.19.0) (1.15.0)\nBuilding wheels for collected packages: dash, dash-core-components, dash-html-components, dash-renderer, dash-table\n  Building wheel for dash (setup.py): started\n  Building wheel for dash (setup.py): finished with status 'done'\n  Created wheel for dash: filename=dash-1.19.0-py3-none-any.whl size=84011 sha256=e04e68c007228393d2c052473b2da02f3679f8109498e22bf58d158d365a055b\n  Stored in directory: c:\\users\\80807819\\appdata\\local\\pip\\cache\\wheels\\e7\\27\\2f\\a9f9bf858843b5365bcb311a80f0b2379737caf4ec50b2ae3a\n  Building wheel for dash-core-components (setup.py): started\n  Building wheel for dash-core-components (setup.py): finished with status 'done'\n  Created wheel for dash-core-components: filename=dash_core_components-1.15.0-py3-none-any.whl size=3527011 sha256=43d8171df661fca3e33e90b3326e7d2be7eb41fd45f1a7fbe3107e54fd58832e\n  Stored in directory: c:\\users\\80807819\\appdata\\local\\pip\\cache\\wheels\\e3\\e6\\0e\\759ca580c568aad2436521fa6df67f53a141dc1ab8f040c4c7\n  Building wheel for dash-html-components (setup.py): started\n  Building wheel for dash-html-components (setup.py): finished with status 'done'\n  Created wheel for dash-html-components: filename=dash_html_components-1.1.2-py3-none-any.whl size=427831 sha256=583dd9797de75823efdcba08832087e86657b3715fe45fc37c52ee396fb63a63\n  Stored in directory: c:\\users\\80807819\\appdata\\local\\pip\\cache\\wheels\\8a\\bc\\a8\\7ad1d354777cfe77413fd7a092e07d7cc82f88f98997f4c463\n  Building wheel for dash-renderer (setup.py): started\n  Building wheel for dash-renderer (setup.py): finished with status 'done'\n  Created wheel for dash-renderer: filename=dash_renderer-1.9.0-py3-none-any.whl size=1014872 sha256=075ab7f5509ef1c0c4760128550edd81ff2893eacc280858b27775bf5da6c363\n  Stored in directory: c:\\users\\80807819\\appdata\\local\\pip\\cache\\wheels\\08\\94\\09\\e11ba8ae5d97e1c8ff5be0ac1f7cf42642eec6ea94ed1e4b44\n  Building wheel for dash-table (setup.py): started\n  Building wheel for dash-table (setup.py): finished with status 'done'\n  Created wheel for dash-table: filename=dash_table-4.11.2-py3-none-any.whl size=1839869 sha256=82d8c56af8eedf118ca1a648795c4a26d14dd9be0df238495b5b7d38c866cab0\n  Stored in directory: c:\\users\\80807819\\appdata\\local\\pip\\cache\\wheels\\cc\\1d\\a0\\720dcf854e410eddbe44f8434f4d3a6332fdd085178eeac4f9\nSuccessfully built dash dash-core-components dash-html-components dash-renderer dash-table\nInstalling collected packages: tenacity, brotli, plotly, flask-compress, dash-table, dash-renderer, dash-html-components, dash-core-components, dash\nSuccessfully installed brotli-1.0.9 dash-1.19.0 dash-core-components-1.15.0 dash-html-components-1.1.2 dash-renderer-1.9.0 dash-table-4.11.2 flask-compress-1.10.1 plotly-5.3.1 tenacity-8.0.1\nCollecting jupyter_dash\n  Downloading jupyter_dash-0.4.0-py3-none-any.whl (20 kB)\nRequirement already satisfied: dash in c:\\users\\80807819\\anaconda3\\lib\\site-packages (from jupyter_dash) (1.19.0)\nCollecting retrying\n  Downloading retrying-1.3.3.tar.gz (10 kB)\nRequirement already satisfied: ipykernel in c:\\users\\80807819\\anaconda3\\lib\\site-packages (from jupyter_dash) (5.3.4)\nRequirement already satisfied: requests in c:\\users\\80807819\\anaconda3\\lib\\site-packages (from jupyter_dash) (2.25.1)\nRequirement already satisfied: flask in c:\\users\\80807819\\anaconda3\\lib\\site-packages (from jupyter_dash) (1.1.2)\nRequirement already satisfied: ipython in c:\\users\\80807819\\anaconda3\\lib\\site-packages (from jupyter_dash) (7.22.0)\nCollecting ansi2html\n  Downloading ansi2html-1.6.0-py3-none-any.whl (14 kB)\nRequirement already satisfied: dash-table==4.11.2 in c:\\users\\80807819\\anaconda3\\lib\\site-packages (from dash->jupyter_dash) (4.11.2)\nRequirement already satisfied: dash-renderer==1.9.0 in c:\\users\\80807819\\anaconda3\\lib\\site-packages (from dash->jupyter_dash) (1.9.0)\nRequirement already satisfied: dash-html-components==1.1.2 in c:\\users\\80807819\\anaconda3\\lib\\site-packages (from dash->jupyter_dash) (1.1.2)\nRequirement already satisfied: plotly in c:\\users\\80807819\\anaconda3\\lib\\site-packages (from dash->jupyter_dash) (5.3.1)\nRequirement already satisfied: flask-compress in c:\\users\\80807819\\anaconda3\\lib\\site-packages (from dash->jupyter_dash) (1.10.1)\nRequirement already satisfied: future in c:\\users\\80807819\\anaconda3\\lib\\site-packages (from dash->jupyter_dash) (0.18.2)\nRequirement already satisfied: dash-core-components==1.15.0 in c:\\users\\80807819\\anaconda3\\lib\\site-packages (from dash->jupyter_dash) (1.15.0)\nRequirement already satisfied: Jinja2>=2.10.1 in c:\\users\\80807819\\anaconda3\\lib\\site-packages (from flask->jupyter_dash) (2.11.3)\nRequirement already satisfied: Werkzeug>=0.15 in c:\\users\\80807819\\anaconda3\\lib\\site-packages (from flask->jupyter_dash) (1.0.1)\nRequirement already satisfied: itsdangerous>=0.24 in c:\\users\\80807819\\anaconda3\\lib\\site-packages (from flask->jupyter_dash) (1.1.0)\nRequirement already satisfied: click>=5.1 in c:\\users\\80807819\\anaconda3\\lib\\site-packages (from flask->jupyter_dash) (7.1.2)\nRequirement already satisfied: MarkupSafe>=0.23 in c:\\users\\80807819\\anaconda3\\lib\\site-packages (from Jinja2>=2.10.1->flask->jupyter_dash) (1.1.1)\nRequirement already satisfied: brotli in c:\\users\\80807819\\anaconda3\\lib\\site-packages (from flask-compress->dash->jupyter_dash) (1.0.9)\nRequirement already satisfied: jupyter-client in c:\\users\\80807819\\anaconda3\\lib\\site-packages (from ipykernel->jupyter_dash) (6.1.12)\nRequirement already satisfied: tornado>=4.2 in c:\\users\\80807819\\anaconda3\\lib\\site-packages (from ipykernel->jupyter_dash) (6.1)\nRequirement already satisfied: traitlets>=4.1.0 in c:\\users\\80807819\\anaconda3\\lib\\site-packages (from ipykernel->jupyter_dash) (5.0.5)\nRequirement already satisfied: pickleshare in c:\\users\\80807819\\anaconda3\\lib\\site-packages (from ipython->jupyter_dash) (0.7.5)\nRequirement already satisfied: colorama in c:\\users\\80807819\\anaconda3\\lib\\site-packages (from ipython->jupyter_dash) (0.4.4)\nRequirement already satisfied: decorator in c:\\users\\80807819\\anaconda3\\lib\\site-packages (from ipython->jupyter_dash) (5.0.6)\nRequirement already satisfied: backcall in c:\\users\\80807819\\anaconda3\\lib\\site-packages (from ipython->jupyter_dash) (0.2.0)\nRequirement already satisfied: prompt-toolkit!=3.0.0,!=3.0.1,<3.1.0,>=2.0.0 in c:\\users\\80807819\\anaconda3\\lib\\site-packages (from ipython->jupyter_dash) (3.0.17)\nRequirement already satisfied: jedi>=0.16 in c:\\users\\80807819\\anaconda3\\lib\\site-packages (from ipython->jupyter_dash) (0.17.2)\nRequirement already satisfied: pygments in c:\\users\\80807819\\anaconda3\\lib\\site-packages (from ipython->jupyter_dash) (2.8.1)\nRequirement already satisfied: setuptools>=18.5 in c:\\users\\80807819\\anaconda3\\lib\\site-packages (from ipython->jupyter_dash) (52.0.0.post20210125)\nRequirement already satisfied: parso<0.8.0,>=0.7.0 in c:\\users\\80807819\\anaconda3\\lib\\site-packages (from jedi>=0.16->ipython->jupyter_dash) (0.7.0)\nRequirement already satisfied: wcwidth in c:\\users\\80807819\\anaconda3\\lib\\site-packages (from prompt-toolkit!=3.0.0,!=3.0.1,<3.1.0,>=2.0.0->ipython->jupyter_dash) (0.2.5)\nRequirement already satisfied: ipython-genutils in c:\\users\\80807819\\anaconda3\\lib\\site-packages (from traitlets>=4.1.0->ipykernel->jupyter_dash) (0.2.0)\nRequirement already satisfied: jupyter-core>=4.6.0 in c:\\users\\80807819\\anaconda3\\lib\\site-packages (from jupyter-client->ipykernel->jupyter_dash) (4.7.1)\nRequirement already satisfied: pyzmq>=13 in c:\\users\\80807819\\anaconda3\\lib\\site-packages (from jupyter-client->ipykernel->jupyter_dash) (20.0.0)\nRequirement already satisfied: python-dateutil>=2.1 in c:\\users\\80807819\\anaconda3\\lib\\site-packages (from jupyter-client->ipykernel->jupyter_dash) (2.8.1)\nRequirement already satisfied: pywin32>=1.0 in c:\\users\\80807819\\anaconda3\\lib\\site-packages (from jupyter-core>=4.6.0->jupyter-client->ipykernel->jupyter_dash) (227)\nRequirement already satisfied: six>=1.5 in c:\\users\\80807819\\anaconda3\\lib\\site-packages (from python-dateutil>=2.1->jupyter-client->ipykernel->jupyter_dash) (1.15.0)\nRequirement already satisfied: tenacity>=6.2.0 in c:\\users\\80807819\\anaconda3\\lib\\site-packages (from plotly->dash->jupyter_dash) (8.0.1)\nRequirement already satisfied: chardet<5,>=3.0.2 in c:\\users\\80807819\\anaconda3\\lib\\site-packages (from requests->jupyter_dash) (4.0.0)\nRequirement already satisfied: urllib3<1.27,>=1.21.1 in c:\\users\\80807819\\anaconda3\\lib\\site-packages (from requests->jupyter_dash) (1.26.4)\nRequirement already satisfied: idna<3,>=2.5 in c:\\users\\80807819\\anaconda3\\lib\\site-packages (from requests->jupyter_dash) (2.10)\nRequirement already satisfied: certifi>=2017.4.17 in c:\\users\\80807819\\anaconda3\\lib\\site-packages (from requests->jupyter_dash) (2020.12.5)\nBuilding wheels for collected packages: retrying\n  Building wheel for retrying (setup.py): started\n  Building wheel for retrying (setup.py): finished with status 'done'\n  Created wheel for retrying: filename=retrying-1.3.3-py3-none-any.whl size=11429 sha256=5d04950e838bac24915d4c8f7b015eeb7a3cd22ce6548e57cae974bef75886e6\n  Stored in directory: c:\\users\\80807819\\appdata\\local\\pip\\cache\\wheels\\c4\\a7\\48\\0a434133f6d56e878ca511c0e6c38326907c0792f67b476e56\nSuccessfully built retrying\nInstalling collected packages: retrying, ansi2html, jupyter-dash\nSuccessfully installed ansi2html-1.6.0 jupyter-dash-0.4.0 retrying-1.3.3\nRequirement already satisfied: plotly in c:\\users\\80807819\\anaconda3\\lib\\site-packages (5.3.1)\nRequirement already satisfied: six in c:\\users\\80807819\\anaconda3\\lib\\site-packages (from plotly) (1.15.0)\nRequirement already satisfied: tenacity>=6.2.0 in c:\\users\\80807819\\anaconda3\\lib\\site-packages (from plotly) (8.0.1)\n"
                }
            ],
            "source": "# Import required libraries\n!pip install dash==1.19.0 \n!pip install jupyter_dash \n!pip install --upgrade plotly\n\nimport pandas as pd\nimport dash\nimport dash_html_components as html\nimport dash_core_components as dcc\nfrom dash.dependencies import Input, Output\nfrom jupyter_dash import JupyterDash\nimport plotly.graph_objects as go\nimport plotly.express as px"
        },
        {
            "cell_type": "code",
            "execution_count": 98,
            "id": "3e48feb0",
            "metadata": {},
            "outputs": [],
            "source": "# Read the airline data into pandas dataframe\n#spacex_df = pd.read_csv(\"spacex_launch_dash.csv\")\n\nspacex_df = pd.read_csv(\"https://cf-courses-data.s3.us.cloud-object-storage.appdomain.cloud/IBM-DS0321EN-SkillsNetwork/datasets/spacex_launch_dash.csv\")\n\nmax_payload = spacex_df['Payload Mass (kg)'].max()\nmin_payload = spacex_df['Payload Mass (kg)'].min()"
        },
        {
            "cell_type": "code",
            "execution_count": 99,
            "id": "e6217cdf",
            "metadata": {},
            "outputs": [],
            "source": "# Create a dash application\n#app = dash.Dash(__name__)\napp = JupyterDash(__name__)"
        },
        {
            "cell_type": "code",
            "execution_count": 100,
            "id": "1b8ca21f",
            "metadata": {},
            "outputs": [],
            "source": "# Create an app layout\napp.layout = html.Div(children=[html.H1('SpaceX Launch Records Dashboard',\n                                        style={'textAlign': 'center', 'color': '#503D36',\n                                               'font-size': 40}),\n                                # TASK 1: Add a dropdown list to enable Launch Site selection\n                                # The default select value is for ALL sites\n                                # dcc.Dropdown(id='site-dropdown',...)\n                                \n                                dcc.Dropdown(\n                                    id='site-dropdown',\n                                    options=[\n                                        {'label': 'CCAFS LC-40', 'value': 'CCAFS LC-40'},\n                                        {'label': 'CCAFS SLC-40', 'value': 'CCAFS SLC-40'},\n                                        {'label': 'KSC LC-39A', 'value': 'KSC LC-39A'},\n                                        {'label': 'VAFB SLC-4E', 'value': 'VAFB SLC-4E'},\n                                        {'label': 'ALL sites', 'value': 'ALL sites'}\n                                    ],\n                                    value='ALL sites'\n                                ),\n                                \n                                html.Br(),\n\n                                # TASK 2: Add a pie chart to show the total successful launches count for all sites\n                                # If a specific launch site was selected, show the Success vs. Failed counts for the site\n                                html.Div(dcc.Graph(id='success-pie-chart')),\n                                html.Br(),\n\n                                html.P(\"Payload range (Kg):\"),\n                                # TASK 3: Add a slider to select payload range\n                                #dcc.RangeSlider(id='payload-slider',...)\n                                dcc.RangeSlider(\n                                    id='payload-slider',\n                                    min=min_payload,\n                                    max=max_payload,\n                                    step=0.1,\n                                    value=[min_payload, max_payload]\n                                ),\n                                html.Div(id='output-container-range-slider'),\n\n                                # TASK 4: Add a scatter chart to show the correlation between payload and launch success\n                                html.Div(dcc.Graph(id='success-payload-scatter-chart')),\n                                ])"
        },
        {
            "cell_type": "code",
            "execution_count": 101,
            "id": "e0d0bc57",
            "metadata": {},
            "outputs": [],
            "source": "# TASK 2:\n# Add a callback function for `site-dropdown` as input, `success-pie-chart` as output\n@app.callback(\n    Output(\"success-pie-chart\", \"figure\"), \n    [Input(\"site-dropdown\", \"value\")])\ndef generate_chart(sitedropdown):\n    if sitedropdown == \"ALL sites\":\n        selection_df = spacex_df[spacex_df['class']==1]\n        fig = px.pie(selection_df, values='class', names='Launch Site')\n    else:\n        selection_df = spacex_df[spacex_df['Launch Site']==sitedropdown]\n        sucesses = sum(selection_df['class']==1)\n        failures = sum(selection_df['class']==0)\n        fig = px.pie(values=[sucesses,failures], names=['Sucess','Failures'])\n    return fig"
        },
        {
            "cell_type": "code",
            "execution_count": 102,
            "id": "15c6d675",
            "metadata": {},
            "outputs": [],
            "source": "# TASK 4:\n# Add a callback function for `site-dropdown` and `payload-slider` as inputs, `success-payload-scatter-chart` as output\n@app.callback(\n    Output(\"success-payload-scatter-chart\", \"figure\"), \n    [Input(\"site-dropdown\", \"value\"),\n     Input(\"payload-slider\", \"value\")])\n\ndef update_bar_chart(sitedropdown, payloadslider):\n   \n    if sitedropdown != \"ALL sites\":\n        selection_df = spacex_df[spacex_df['Launch Site']==sitedropdown]\n    else:\n        selection_df = spacex_df\n    \n    selection_df = selection_df[(selection_df['Payload Mass (kg)'] >= payloadslider[0])]\n    selection_df = selection_df[(selection_df['Payload Mass (kg)'] <= payloadslider[1])]\n    \n    fig = px.scatter(\n        selection_df, x='Payload Mass (kg)', y=\"class\", \n        color=\"class\")\n    \n    return fig"
        },
        {
            "cell_type": "code",
            "execution_count": 103,
            "id": "da376f8a",
            "metadata": {},
            "outputs": [],
            "source": "# Run the app\n#if __name__ == '__main__':\n#    app.run_server()\n    \nif __name__ == '__main__':\n    app.run_server(mode='jupyterlab', port = 8090 ,dev_tools_ui=True, #debug=True,\n              dev_tools_hot_reload =True, threaded=True)\n\n#Later in browser use the url\n#http://localhost:8090\n"
        },
        {
            "cell_type": "code",
            "execution_count": null,
            "id": "281360d3",
            "metadata": {},
            "outputs": [],
            "source": ""
        },
        {
            "cell_type": "code",
            "execution_count": null,
            "id": "48c3c40f",
            "metadata": {},
            "outputs": [],
            "source": ""
        },
        {
            "cell_type": "code",
            "execution_count": null,
            "id": "0c68b2b2",
            "metadata": {},
            "outputs": [],
            "source": ""
        }
    ],
    "metadata": {
        "kernelspec": {
            "display_name": "Python 3",
            "language": "python",
            "name": "python3"
        },
        "language_info": {
            "codemirror_mode": {
                "name": "ipython",
                "version": 3
            },
            "file_extension": ".py",
            "mimetype": "text/x-python",
            "name": "python",
            "nbconvert_exporter": "python",
            "pygments_lexer": "ipython3",
            "version": "3.8.8"
        }
    },
    "nbformat": 4,
    "nbformat_minor": 5
}